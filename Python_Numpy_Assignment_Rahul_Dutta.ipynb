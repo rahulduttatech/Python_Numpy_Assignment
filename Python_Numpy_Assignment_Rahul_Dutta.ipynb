{
  "nbformat": 4,
  "nbformat_minor": 0,
  "metadata": {
    "colab": {
      "provenance": [],
      "authorship_tag": "ABX9TyN4whh0hfmawP3YTNLSEAJs"
    },
    "kernelspec": {
      "name": "python3",
      "display_name": "Python 3"
    },
    "language_info": {
      "name": "python"
    }
  },
  "cells": [
    {
      "cell_type": "markdown",
      "source": [
        "# **Theoretical Questions:**"
      ],
      "metadata": {
        "id": "u1kyGLjKVvYB"
      }
    },
    {
      "cell_type": "markdown",
      "source": [
        "**Q1. Explain the purpose and advantages of NumPy in scientific computing and data analysis. How does it  enhance Python's capabilities for numerical operations?**"
      ],
      "metadata": {
        "id": "cwBYd4izV4Dg"
      }
    },
    {
      "cell_type": "markdown",
      "source": [
        "**Ans1.** NumPy (Numerical Python) is a powerful library in Python that focuses on numerical computing and is widely used in scientific computing and data analysis. Here's why it's so important:\n",
        "\n",
        "### **Purpose of NumPy**\n",
        "- **Efficient Numerical Computations**: NumPy provides a high-performance multidimensional array object called `ndarray` that allows fast and efficient numerical calculations.\n",
        "- **Scientific Data Handling**: It's designed for handling large datasets and performing complex mathematical operations on them easily.\n",
        "\n",
        "### **Advantages of NumPy**\n",
        "1. **Speed**: NumPy is much faster than regular Python lists because it uses optimized C code for array operations.\n",
        "2. **Memory Efficiency**: It uses less memory compared to Python lists since it stores data in a compact and contiguous memory format.\n",
        "3. **Broad Functionality**: It includes built-in functions for mathematical operations like linear algebra, Fourier transforms, and random number generation.\n",
        "4. **Convenient Array Operations**: NumPy supports element-wise operations, which means you can perform arithmetic directly on entire arrays without using loops.\n",
        "5. **Interoperability**: NumPy integrates well with other libraries like Pandas, Matplotlib, and SciPy, enhancing its usage in data science and machine learning workflows.\n",
        "\n",
        "### **How NumPy Enhances Python’s Capabilities**\n",
        "- **Vectorized Operations**: Instead of writing loops to perform operations on each element, NumPy allows you to perform vectorized operations, making code cleaner and faster.\n",
        "- **Multi-Dimensional Arrays**: NumPy introduces arrays that can have more than one dimension (like matrices), which Python lists don't natively support.\n",
        "- **Broadcasting**: This feature allows you to perform operations on arrays of different shapes, simplifying many tasks without writing complex code.\n",
        "\n",
        "In summary, NumPy transforms Python into a more efficient tool for handling large datasets and performing numerical computations, making it indispensable for scientific computing and data analysis."
      ],
      "metadata": {
        "id": "uCQRvx24V-PJ"
      }
    },
    {
      "cell_type": "markdown",
      "source": [
        "**Q2. Compare and contrast np.mean() and np.average() functions in NumPy. When would you use one over the  other?**"
      ],
      "metadata": {
        "id": "LEll0xI1WOjt"
      }
    },
    {
      "cell_type": "markdown",
      "source": [
        "**Ans2.**\n",
        "### **Comparing `np.mean()` and `np.average()` in NumPy**\n",
        "\n",
        "Both `np.mean()` and `np.average()` are used to calculate the average of an array, but they have some key differences:\n",
        "\n",
        "---\n",
        "\n",
        "### **1. `np.mean()`**\n",
        "- **Definition**: Calculates the arithmetic mean (simple average) of the elements in an array.\n",
        "- **Syntax**: `np.mean(array, axis=None)`\n",
        "- **Weights**: It does **not** support weights; it treats all elements equally.\n",
        "- **Use Case**: Use `np.mean()` when you want a straightforward average without considering the importance or weight of individual elements.\n",
        "\n",
        "#### **Example**:"
      ],
      "metadata": {
        "id": "4ZOMawy0WT_k"
      }
    },
    {
      "cell_type": "code",
      "source": [
        "import numpy as np\n",
        "arr = np.array([1, 2, 3, 4, 5])\n",
        "mean_value = np.mean(arr)\n",
        "print(mean_value)  # Output: 3.0"
      ],
      "metadata": {
        "id": "dtg67F2xWgzS"
      },
      "execution_count": null,
      "outputs": []
    },
    {
      "cell_type": "markdown",
      "source": [
        "### **2. `np.average()`**\n",
        "- **Definition**: Calculates a weighted average, where you can specify the importance of each element.\n",
        "- **Syntax**: `np.average(array, weights=None, axis=None)`\n",
        "- **Weights**: Supports weights, allowing some elements to contribute more to the final average than others.\n",
        "- **Use Case**: Use `np.average()` when you need to calculate an average that gives different importance (weights) to different elements.\n",
        "\n",
        "#### **Example**:"
      ],
      "metadata": {
        "id": "dvV6eBsFWmz3"
      }
    },
    {
      "cell_type": "code",
      "source": [
        "arr = np.array([1, 2, 3, 4, 5])\n",
        "weights = np.array([1, 2, 3, 4, 5])  # Higher weight for higher values\n",
        "weighted_average = np.average(arr, weights=weights)\n",
        "print(weighted_average)  # Output: 3.666..."
      ],
      "metadata": {
        "id": "n0YhzDNOWnbe"
      },
      "execution_count": null,
      "outputs": []
    },
    {
      "cell_type": "markdown",
      "source": [
        "\n",
        "\n",
        "### **Key Differences**\n",
        "| Feature              | `np.mean()`                      | `np.average()`                    |\n",
        "|----------------------|-----------------------------------|-----------------------------------|\n",
        "| **Weights**           | Not supported                     | Supported                          |\n",
        "| **Use Case**          | Simple arithmetic mean             | Weighted average                    |\n",
        "| **Performance**       | Slightly faster (no weights)       | Slightly slower (with weights)      |\n",
        "\n",
        "---\n",
        "\n",
        "### **When to Use Which?**\n",
        "- **Use `np.mean()`**: When all elements should contribute equally to the average, like calculating the average temperature over a week.\n",
        "- **Use `np.average()`**: When different elements have different levels of importance, like calculating a student’s weighted grade based on different subjects' importance.\n"
      ],
      "metadata": {
        "id": "ThzKxpwNWZUd"
      }
    },
    {
      "cell_type": "markdown",
      "source": [
        "**Q3. Describe the methods for reversing a NumPy array along different axes. Provide examples for 1D and 2D  arrays.**"
      ],
      "metadata": {
        "id": "-AsCXrBlWsJw"
      }
    },
    {
      "cell_type": "markdown",
      "source": [
        "**Ans3.**\n",
        "### **Reversing a NumPy Array Along Different Axes**\n",
        "\n",
        "Reversing a NumPy array means flipping the order of its elements. NumPy provides several methods to reverse arrays, depending on the dimensionality and the axis you want to reverse.\n",
        "\n",
        "---\n",
        "\n",
        "### **1. Reversing a 1D Array**\n",
        "\n",
        "#### **Method: Slicing (`[::-1]`)**\n",
        "The easiest way to reverse a 1D array is using slicing with a step of `-1`.\n",
        "\n",
        "#### **Example**:"
      ],
      "metadata": {
        "id": "pW8qQ_vDW0xg"
      }
    },
    {
      "cell_type": "code",
      "source": [
        "import numpy as np\n",
        "\n",
        "arr_1d = np.array([1, 2, 3, 4, 5])\n",
        "reversed_1d = arr_1d[::-1]\n",
        "print(reversed_1d)  # Output: [5 4 3 2 1]"
      ],
      "metadata": {
        "id": "kWxFgL7qW_6D"
      },
      "execution_count": null,
      "outputs": []
    },
    {
      "cell_type": "markdown",
      "source": [
        "### **2. Reversing a 2D Array**\n",
        "\n",
        "#### **Method 1: Reverse Entire Array**\n",
        "You can reverse the entire 2D array by applying slicing.\n",
        "\n",
        "#### **Example**:"
      ],
      "metadata": {
        "id": "sRxzraPMXEWC"
      }
    },
    {
      "cell_type": "code",
      "source": [
        "arr_2d = np.array([[1, 2, 3], [4, 5, 6], [7, 8, 9]])\n",
        "reversed_2d = arr_2d[::-1, ::-1]\n",
        "print(reversed_2d)\n",
        "# Output:\n",
        "# [[9 8 7]\n",
        "#  [6 5 4]\n",
        "#  [3 2 1]]"
      ],
      "metadata": {
        "id": "CGNn4N37XFqL"
      },
      "execution_count": null,
      "outputs": []
    },
    {
      "cell_type": "markdown",
      "source": [
        "#### **Method 2: Reverse Along Rows (Axis 0)**\n",
        "To reverse only the rows (flip vertically):"
      ],
      "metadata": {
        "id": "wzYc9LMpXHzi"
      }
    },
    {
      "cell_type": "code",
      "source": [
        "reversed_rows = arr_2d[::-1, :]\n",
        "print(reversed_rows)\n",
        "# Output:\n",
        "# [[7 8 9]\n",
        "#  [4 5 6]\n",
        "#  [1 2 3]]"
      ],
      "metadata": {
        "id": "qB056yOmXKA6"
      },
      "execution_count": null,
      "outputs": []
    },
    {
      "cell_type": "markdown",
      "source": [
        "#### **Method 3: Reverse Along Columns (Axis 1)**\n",
        "To reverse only the columns (flip horizontally):"
      ],
      "metadata": {
        "id": "BALOSORRXNCr"
      }
    },
    {
      "cell_type": "code",
      "source": [
        "reversed_cols = arr_2d[:, ::-1]\n",
        "print(reversed_cols)\n",
        "# Output:\n",
        "# [[3 2 1]\n",
        "#  [6 5 4]\n",
        "#  [9 8 7]]"
      ],
      "metadata": {
        "id": "-J9jfgOHXOqz"
      },
      "execution_count": null,
      "outputs": []
    },
    {
      "cell_type": "markdown",
      "source": [
        "\n",
        "\n",
        "### **Summary of Methods**\n",
        "| Reversal Type       | Code                              | Explanation                                     |\n",
        "|---------------------|-----------------------------------|-------------------------------------------------|\n",
        "| **1D Reversal**      | `arr[::-1]`                       | Reverses the entire 1D array                    |\n",
        "| **2D Entire Reversal**| `arr[::-1, ::-1]`                 | Reverses both rows and columns                  |\n",
        "| **Rows Reversal**    | `arr[::-1, :]`                    | Reverses only the rows                          |\n",
        "| **Columns Reversal** | `arr[:, ::-1]`                    | Reverses only the columns                       |\n",
        "\n",
        "By using these simple slicing techniques, you can easily manipulate and reverse arrays in any direction! 😊"
      ],
      "metadata": {
        "id": "G5fDqlL3W5sx"
      }
    },
    {
      "cell_type": "markdown",
      "source": [
        "**Q4. How can you determine the data type of elements in a NumPy array? Discuss the importance of data types  in memory management and performance.**"
      ],
      "metadata": {
        "id": "czn_vpNAXWcU"
      }
    },
    {
      "cell_type": "markdown",
      "source": [
        "**Ans4.**\n",
        "### **Determining the Data Type of Elements in a NumPy Array**\n",
        "\n",
        "In NumPy, you can determine the data type of elements in an array using the `.dtype` attribute.\n",
        "\n",
        "#### **Example**:"
      ],
      "metadata": {
        "id": "31khdlcpXkTm"
      }
    },
    {
      "cell_type": "code",
      "source": [
        "import numpy as np\n",
        "\n",
        "arr = np.array([1, 2, 3, 4, 5])\n",
        "print(arr.dtype)  # Output: int64 (or int32 depending on the system)\n",
        "\n",
        "float_arr = np.array([1.5, 2.5, 3.5])\n",
        "print(float_arr.dtype)  # Output: float64"
      ],
      "metadata": {
        "id": "iq8njM8UX0Sg"
      },
      "execution_count": null,
      "outputs": []
    },
    {
      "cell_type": "markdown",
      "source": [
        "### **Importance of Data Types in Memory Management and Performance**\n",
        "\n",
        "#### 1. **Memory Efficiency**\n",
        "- Different data types require different amounts of memory. For example:\n",
        "  - `int8` (8 bits) requires **1 byte** per element.\n",
        "  - `int32` (32 bits) requires **4 bytes** per element.\n",
        "  - `float64` (64 bits) requires **8 bytes** per element.\n",
        "- By selecting an appropriate data type, you can save memory. For large datasets, this can be crucial.\n",
        "\n",
        "#### **Example**:"
      ],
      "metadata": {
        "id": "Im5KAyvzX3nw"
      }
    },
    {
      "cell_type": "code",
      "source": [
        "large_arr = np.array([1, 2, 3], dtype=np.int8)  # Uses less memory\n",
        "print(large_arr.nbytes)  # Output: 3 bytes (1 byte per element)\n",
        "\n",
        "large_float_arr = np.array([1.0, 2.0, 3.0], dtype=np.float64)\n",
        "print(large_float_arr.nbytes)  # Output: 24 bytes (8 bytes per element)"
      ],
      "metadata": {
        "id": "Y1kdllDUX6iA"
      },
      "execution_count": null,
      "outputs": []
    },
    {
      "cell_type": "markdown",
      "source": [
        "#### 2. **Performance Optimization**\n",
        "- Operations on arrays with smaller or simpler data types are faster because less data needs to be processed.\n",
        "- For example, arithmetic operations on `int32` arrays are faster than on `float64` arrays due to smaller memory size and simpler computations.\n",
        "\n",
        "#### **Example**:"
      ],
      "metadata": {
        "id": "VW7zYTuqYAiR"
      }
    },
    {
      "cell_type": "code",
      "source": [
        "int_arr = np.array([1, 2, 3], dtype=np.int32)\n",
        "float_arr = np.array([1.0, 2.0, 3.0], dtype=np.float64)\n",
        "\n",
        "# Arithmetic operations\n",
        "int_sum = int_arr + int_arr  # Faster\n",
        "float_sum = float_arr + float_arr  # Slightly slower"
      ],
      "metadata": {
        "id": "IG1cwXryYDTi"
      },
      "execution_count": null,
      "outputs": []
    },
    {
      "cell_type": "markdown",
      "source": [
        "\n",
        "\n",
        "### **Why Data Types Matter**\n",
        "1. **Memory Management**: Choosing the right data type minimizes memory usage, which is critical for large datasets.\n",
        "2. **Speed**: Smaller data types lead to faster computations, improving overall program performance.\n",
        "3. **Precision**: Data types like `float64` provide more precision, useful for scientific calculations, while `int` types are better for counting or discrete data.\n",
        "\n",
        "In summary, understanding and using appropriate data types in NumPy helps balance memory usage, speed, and precision, making your programs more efficient and effective."
      ],
      "metadata": {
        "id": "ipNnHznmXl-f"
      }
    },
    {
      "cell_type": "markdown",
      "source": [
        "**Q5. Define ndarrays in NumPy and explain their key features. How do they differ from standard Python lists?**"
      ],
      "metadata": {
        "id": "vPKAnyLeXsDX"
      }
    },
    {
      "cell_type": "markdown",
      "source": [
        "**Ans5.**\n",
        "### **Definition of `ndarray` in NumPy**\n",
        "\n",
        "An **`ndarray`** (N-dimensional array) is the core data structure provided by NumPy for handling large, multi-dimensional arrays of homogeneous data. It allows efficient storage and manipulation of numerical data in a structured way.\n",
        "\n",
        "---\n",
        "\n",
        "### **Key Features of `ndarray`**\n",
        "\n",
        "1. **Multidimensional**: Can handle arrays with any number of dimensions (1D, 2D, 3D, etc.).\n",
        "   - Example: 1D vector, 2D matrix, 3D tensor.\n",
        "   \n",
        "2. **Homogeneous Data**: All elements in an `ndarray` must be of the same data type (e.g., `int`, `float`).\n",
        "   \n",
        "3. **Efficient Memory Usage**: `ndarray` stores data in contiguous blocks of memory, making it more memory-efficient than Python lists.\n",
        "   \n",
        "4. **Vectorized Operations**: Supports element-wise operations without the need for loops, enhancing performance.\n",
        "   - Example: `arr * 2` multiplies every element by 2.\n",
        "   \n",
        "5. **Shape and Size Attributes**: Provides useful attributes like `.shape` (dimensions of the array) and `.size` (total number of elements).\n",
        "   - Example:"
      ],
      "metadata": {
        "id": "IsIOngW8YKpM"
      }
    },
    {
      "cell_type": "code",
      "source": [
        "     arr = np.array([[1, 2], [3, 4]])\n",
        "     print(arr.shape)  # Output: (2, 2)\n",
        "     print(arr.size)   # Output: 4"
      ],
      "metadata": {
        "id": "hVHe3UgdYza5"
      },
      "execution_count": null,
      "outputs": []
    },
    {
      "cell_type": "markdown",
      "source": [
        "6. **Broadcasting**: Supports operations on arrays of different shapes without explicitly reshaping them."
      ],
      "metadata": {
        "id": "lPYakctIYy9w"
      }
    },
    {
      "cell_type": "markdown",
      "source": [
        "\n",
        "\n",
        "### **Differences Between `ndarray` and Python Lists**\n",
        "\n",
        "| Feature               | `ndarray` (NumPy)                           | Python List                          |\n",
        "|-----------------------|---------------------------------------------|--------------------------------------|\n",
        "| **Data Type**          | Homogeneous (all elements must be the same)  | Heterogeneous (can hold mixed types) |\n",
        "| **Performance**        | Faster due to optimized C-based operations   | Slower, especially for large datasets|\n",
        "| **Memory Usage**       | More memory-efficient                        | Less efficient (due to pointers)     |\n",
        "| **Operations**         | Supports vectorized operations (e.g., `arr * 2`) | Requires explicit loops for operations |\n",
        "| **Dimensionality**     | Supports multidimensional arrays (e.g., 2D, 3D) | Lists are typically 1D; nesting is needed for multi-dimensions |\n",
        "| **Functions**          | Has built-in mathematical functions (e.g., `np.sum()`) | No direct support for such operations |\n",
        "\n",
        "---\n",
        "\n",
        "### **Example Comparison**\n",
        "\n",
        "#### **NumPy `ndarray` Example**:"
      ],
      "metadata": {
        "id": "yaJm06_dZaG1"
      }
    },
    {
      "cell_type": "code",
      "source": [
        "import numpy as np\n",
        "arr = np.array([1, 2, 3, 4])\n",
        "print(arr * 2)  # Output: [2 4 6 8]"
      ],
      "metadata": {
        "id": "reTRwpbnZbcF"
      },
      "execution_count": null,
      "outputs": []
    },
    {
      "cell_type": "markdown",
      "source": [
        "#### **Python List Example**:"
      ],
      "metadata": {
        "id": "cVv4wtetZeKN"
      }
    },
    {
      "cell_type": "code",
      "source": [
        "lst = [1, 2, 3, 4]\n",
        "print([x * 2 for x in lst])  # Output: [2, 4, 6, 8]"
      ],
      "metadata": {
        "id": "9vFbcjqIZgNO"
      },
      "execution_count": null,
      "outputs": []
    },
    {
      "cell_type": "markdown",
      "source": [
        "\n",
        "\n",
        "### **Summary**\n",
        "\n",
        "- `ndarray` is designed for efficient numerical computations and works much faster than Python lists, especially with large datasets.\n",
        "- While Python lists are flexible and easy to use, `ndarray` offers better performance, memory efficiency, and built-in mathematical capabilities, making it ideal for scientific computing and data analysis."
      ],
      "metadata": {
        "id": "7VyE1NPUYsLZ"
      }
    },
    {
      "cell_type": "markdown",
      "source": [
        "**Q6. Analyze the performance benefits of NumPy arrays over Python lists for large-scale numerical operations.**\n",
        "\n",
        "\n"
      ],
      "metadata": {
        "id": "J7iDHosOZn0A"
      }
    },
    {
      "cell_type": "markdown",
      "source": [
        "**Ans6.**\n",
        "### **Performance Benefits of NumPy Arrays Over Python Lists for Large-Scale Numerical Operations**\n",
        "\n",
        "NumPy arrays (`ndarray`) are significantly faster and more efficient than Python lists when dealing with large-scale numerical data. Let’s break down why:\n",
        "\n",
        "---\n",
        "\n",
        "### **1. Speed and Efficiency**\n",
        "\n",
        "#### **Reason: Vectorized Operations**\n",
        "- **NumPy Arrays**: Operations are executed using optimized C/C++ code, allowing element-wise operations without loops.\n",
        "- **Python Lists**: Operations require explicit loops, making them slower due to the interpreted nature of Python.\n",
        "\n",
        "#### **Example: Adding Two Arrays/Lists**"
      ],
      "metadata": {
        "id": "-rJRkqqpZrt3"
      }
    },
    {
      "cell_type": "code",
      "source": [
        "import numpy as np\n",
        "import time\n",
        "\n",
        "# NumPy Array\n",
        "arr = np.arange(1_000_000)\n",
        "start = time.time()\n",
        "arr_sum = arr + arr  # Vectorized operation\n",
        "end = time.time()\n",
        "print(\"NumPy time:\", end - start)\n",
        "\n",
        "# Python List\n",
        "lst = list(range(1_000_000))\n",
        "start = time.time()\n",
        "lst_sum = [x + x for x in lst]  # Loop-based operation\n",
        "end = time.time()\n",
        "print(\"List time:\", end - start)"
      ],
      "metadata": {
        "id": "bLYtg4u7Z60R"
      },
      "execution_count": null,
      "outputs": []
    },
    {
      "cell_type": "markdown",
      "source": [
        "**Result**: NumPy is **much faster** because it avoids the overhead of Python loops.\n",
        "\n",
        "---\n",
        "\n",
        "### **2. Memory Efficiency**\n",
        "\n",
        "#### **Reason: Compact Storage**\n",
        "- **NumPy Arrays**: Store elements in contiguous memory blocks, reducing memory overhead.\n",
        "- **Python Lists**: Store elements as objects with pointers, which increases memory usage.\n",
        "\n",
        "#### **Example: Memory Usage Comparison**"
      ],
      "metadata": {
        "id": "fnrrmxNcZ-CR"
      }
    },
    {
      "cell_type": "code",
      "source": [
        "import sys\n",
        "\n",
        "# NumPy Array\n",
        "arr = np.array([1, 2, 3, 4, 5], dtype=np.int32)\n",
        "print(\"NumPy memory:\", arr.nbytes)  # Output: 20 bytes\n",
        "\n",
        "# Python List\n",
        "lst = [1, 2, 3, 4, 5]\n",
        "print(\"List memory:\", sys.getsizeof(lst))  # Output: Larger than NumPy"
      ],
      "metadata": {
        "id": "k-PGPumkaAmR"
      },
      "execution_count": null,
      "outputs": []
    },
    {
      "cell_type": "markdown",
      "source": [
        "**Result**: NumPy uses significantly **less memory** than Python lists.\n",
        "\n",
        "---\n",
        "\n",
        "### **3. Built-in Mathematical Functions**\n",
        "\n",
        "- **NumPy Arrays**: Provide a wide range of optimized mathematical functions (e.g., `np.sum()`, `np.mean()`).\n",
        "- **Python Lists**: Require manual loops or external functions like `sum()`, which are less efficient.\n",
        "\n",
        "#### **Example: Summing Elements**"
      ],
      "metadata": {
        "id": "1B5kkuLzaEJ6"
      }
    },
    {
      "cell_type": "code",
      "source": [
        "# NumPy Array\n",
        "arr = np.arange(1_000_000)\n",
        "print(\"NumPy sum:\", np.sum(arr))  # Fast and efficient\n",
        "\n",
        "# Python List\n",
        "lst = list(range(1_000_000))\n",
        "print(\"List sum:\", sum(lst))  # Slower than NumPy"
      ],
      "metadata": {
        "id": "Np0ATTBkaHJT"
      },
      "execution_count": null,
      "outputs": []
    },
    {
      "cell_type": "markdown",
      "source": [
        "\n",
        "### **4. Multi-Dimensional Support**\n",
        "- **NumPy Arrays**: Support multidimensional arrays (e.g., 2D matrices, 3D tensors) natively, making them ideal for scientific computations.\n",
        "- **Python Lists**: Require nested lists for multi-dimensional data, leading to more complex code and slower performance.\n",
        "\n",
        "---\n",
        "\n",
        "### **5. Broadcasting**\n",
        "\n",
        "NumPy supports **broadcasting**, which allows operations between arrays of different shapes without explicit looping or reshaping. Python lists require manual handling of shapes.\n",
        "\n",
        "#### **Example: Broadcasting**"
      ],
      "metadata": {
        "id": "6PbnylHVaPbr"
      }
    },
    {
      "cell_type": "code",
      "source": [
        "arr = np.array([1, 2, 3])\n",
        "matrix = np.array([[10], [20], [30]])\n",
        "print(arr + matrix)\n",
        "# Output:\n",
        "# [[11 12 13]\n",
        "#  [21 22 23]\n",
        "#  [31 32 33]]"
      ],
      "metadata": {
        "id": "u3mTdedsaQIv"
      },
      "execution_count": null,
      "outputs": []
    },
    {
      "cell_type": "markdown",
      "source": [
        "\n",
        "\n",
        "### **Conclusion**\n",
        "\n",
        "- **NumPy arrays** are faster, more memory-efficient, and easier to use for large-scale numerical operations due to their optimized C-based implementation, vectorized operations, and broadcasting capabilities.\n",
        "- **Python lists**, while more flexible for general-purpose tasks, are slower and less efficient for numerical computations, making NumPy a clear choice for data analysis, scientific computing, and machine learning tasks. 😊"
      ],
      "metadata": {
        "id": "dPgyCDRDZyHA"
      }
    },
    {
      "cell_type": "markdown",
      "source": [
        "**Q7. Compare vstack() and hstack() functions in NumPy. Provide examples demonstrating their usage and output.**"
      ],
      "metadata": {
        "id": "q2Yl3A3lZ1QJ"
      }
    },
    {
      "cell_type": "markdown",
      "source": [
        "**Ans7.**\n",
        "### **Comparison of `vstack()` and `hstack()` Functions in NumPy**\n",
        "\n",
        "Both `vstack()` and `hstack()` are used to combine arrays, but they do so in different ways:\n",
        "\n",
        "---\n",
        "\n",
        "### **1. `vstack()` – Vertical Stacking**\n",
        "- **Definition**: Stacks arrays **vertically** (along rows).\n",
        "- **Behavior**: Combines arrays by placing them one on top of the other.\n",
        "- **Shape Requirement**: Arrays must have the **same number of columns** (i.e., same width).\n",
        "\n",
        "#### **Example**:"
      ],
      "metadata": {
        "id": "GEUaTGOoaZYc"
      }
    },
    {
      "cell_type": "code",
      "source": [
        "import numpy as np\n",
        "\n",
        "arr1 = np.array([[1, 2], [3, 4]])\n",
        "arr2 = np.array([[5, 6]])\n",
        "\n",
        "# Vertical stacking\n",
        "result_vstack = np.vstack((arr1, arr2))\n",
        "print(result_vstack)\n",
        "\n",
        "Output:\n",
        "[[1 2]\n",
        "[3 4]\n",
        "[5 6]]"
      ],
      "metadata": {
        "id": "1iKoe4x8bxyH"
      },
      "execution_count": null,
      "outputs": []
    },
    {
      "cell_type": "markdown",
      "source": [
        "### **2. `hstack()` – Horizontal Stacking**\n",
        "- **Definition**: Stacks arrays **horizontally** (along columns).\n",
        "- **Behavior**: Combines arrays by placing them side by side.\n",
        "- **Shape Requirement**: Arrays must have the **same number of rows** (i.e., same height).\n",
        "\n",
        "#### **Example**:"
      ],
      "metadata": {
        "id": "rdMz4Yo0b8HQ"
      }
    },
    {
      "cell_type": "code",
      "source": [
        "arr3 = np.array([[1, 2], [3, 4]])\n",
        "arr4 = np.array([[5], [6]])\n",
        "\n",
        "# Horizontal stacking\n",
        "result_hstack = np.hstack((arr3, arr4))\n",
        "print(result_hstack)\n",
        "\n",
        "Output:\n",
        "\n",
        "[[1 2 5]\n",
        " [3 4 6]]"
      ],
      "metadata": {
        "id": "Jhe4BGVecARn"
      },
      "execution_count": null,
      "outputs": []
    },
    {
      "cell_type": "markdown",
      "source": [
        "\n",
        "\n",
        "### **Key Differences Between `vstack()` and `hstack()`**\n",
        "\n",
        "| Feature            | `vstack()`                           | `hstack()`                            |\n",
        "|--------------------|--------------------------------------|---------------------------------------|\n",
        "| **Stacking Direction** | Vertical (row-wise)                  | Horizontal (column-wise)               |\n",
        "| **Shape Requirement** | Same number of columns               | Same number of rows                    |\n",
        "| **Resulting Shape**  | Rows increase, columns stay the same  | Columns increase, rows stay the same   |\n",
        "\n",
        "---\n",
        "\n",
        "### **Example Using Both Functions**"
      ],
      "metadata": {
        "id": "KWEJDfMacWrc"
      }
    },
    {
      "cell_type": "code",
      "source": [
        "arr_a = np.array([1, 2])\n",
        "arr_b = np.array([3, 4])\n",
        "\n",
        "# Reshaping for demonstration\n",
        "arr_a_reshaped = arr_a.reshape(1, -1)  # [[1, 2]]\n",
        "arr_b_reshaped = arr_b.reshape(1, -1)  # [[3, 4]]\n",
        "\n",
        "# Vertical Stack\n",
        "print(\"Vertical Stack:\")\n",
        "print(np.vstack((arr_a_reshaped, arr_b_reshaped)))\n",
        "\n",
        "# Horizontal Stack\n",
        "print(\"Horizontal Stack:\")\n",
        "print(np.hstack((arr_a_reshaped, arr_b_reshaped)))\n",
        "\n",
        "Output:\n",
        "\n",
        "Vertical Stack:\n",
        "[[1 2]\n",
        " [3 4]]\n",
        "\n",
        "Horizontal Stack:\n",
        "[[1 2 3 4]]"
      ],
      "metadata": {
        "id": "-ts6umLPcZLl"
      },
      "execution_count": null,
      "outputs": []
    },
    {
      "cell_type": "markdown",
      "source": [
        "\n",
        "### **Conclusion**\n",
        "- Use **`vstack()`** when you need to stack arrays vertically (one below the other).\n",
        "- Use **`hstack()`** when you need to stack arrays horizontally (side by side).\n",
        "These functions are particularly useful for combining datasets in different shapes while maintaining efficient code!"
      ],
      "metadata": {
        "id": "miLIPnJ1buxg"
      }
    },
    {
      "cell_type": "markdown",
      "source": [
        "**Q8. Explain the differences between fliplr() and flipud() methods in NumPy, including their effects on various array dimensions**"
      ],
      "metadata": {
        "id": "mqlwtKR9ceBG"
      }
    },
    {
      "cell_type": "markdown",
      "source": [
        "**Ans8.**\n",
        "### **Differences Between `fliplr()` and `flipud()` in NumPy**\n",
        "\n",
        "Both `fliplr()` and `flipud()` are used to reverse the order of elements in a 2D (or higher-dimensional) NumPy array, but they operate along different axes:\n",
        "\n",
        "---\n",
        "\n",
        "### **1. `fliplr()` – Flip Left to Right**\n",
        "- **Definition**: Flips the array **horizontally**, reversing the order of columns.\n",
        "- **Effect**: The first column becomes the last, the second becomes the second-to-last, and so on.\n",
        "- **Supported Arrays**: Requires at least a **2D array** (won’t work on 1D arrays).\n",
        "\n",
        "#### **Example**:"
      ],
      "metadata": {
        "id": "xWmGqytVcrLX"
      }
    },
    {
      "cell_type": "code",
      "source": [
        "import numpy as np\n",
        "\n",
        "arr = np.array([[1, 2, 3],\n",
        "                [4, 5, 6],\n",
        "                [7, 8, 9]])\n",
        "\n",
        "flipped_lr = np.fliplr(arr)\n",
        "print(flipped_lr)\n",
        "\n",
        "Output:\n",
        "\n",
        "[[3 2 1]\n",
        " [6 5 4]\n",
        " [9 8 7]]"
      ],
      "metadata": {
        "id": "eW4WsHnAc47B"
      },
      "execution_count": null,
      "outputs": []
    },
    {
      "cell_type": "markdown",
      "source": [
        "### **2. `flipud()` – Flip Up to Down**\n",
        "- **Definition**: Flips the array **vertically**, reversing the order of rows.\n",
        "- **Effect**: The first row becomes the last, the second row becomes the second-to-last, and so on.\n",
        "- **Supported Arrays**: Works on **all arrays**, including 1D arrays.\n",
        "\n",
        "#### **Example**:"
      ],
      "metadata": {
        "id": "YYTfWtXLc9hI"
      }
    },
    {
      "cell_type": "code",
      "source": [
        "flipped_ud = np.flipud(arr)\n",
        "print(flipped_ud)\n",
        "```\n",
        "**Output**:\n",
        "```\n",
        "[[7 8 9]\n",
        " [4 5 6]\n",
        " [1 2 3]]"
      ],
      "metadata": {
        "id": "ifbpivsnc_7B"
      },
      "execution_count": null,
      "outputs": []
    },
    {
      "cell_type": "markdown",
      "source": [
        "### **Key Differences Between `fliplr()` and `flipud()`**\n",
        "\n",
        "| Feature                | `fliplr()` (Left to Right)           | `flipud()` (Up to Down)              |\n",
        "|------------------------|--------------------------------------|--------------------------------------|\n",
        "| **Axis of Operation**   | Horizontal (along columns)           | Vertical (along rows)                |\n",
        "| **Effect on 2D Arrays** | Reverses the column order             | Reverses the row order               |\n",
        "| **Works on 1D Arrays**  | No (throws an error)                 | Yes (reverses the entire array)      |\n",
        "\n",
        "---\n",
        "\n",
        "### **Example with 1D Array for `flipud()`**"
      ],
      "metadata": {
        "id": "pZ2H6bVbdFvJ"
      }
    },
    {
      "cell_type": "code",
      "source": [
        "arr_1d = np.array([1, 2, 3, 4, 5])\n",
        "\n",
        "flipped_1d = np.flipud(arr_1d)\n",
        "print(flipped_1d)  # Output: [5 4 3 2 1]\n",
        "```\n",
        "**Note**: `fliplr()` would not work here because it requires at least a 2D array."
      ],
      "metadata": {
        "id": "NwwtOwk9dFap"
      },
      "execution_count": null,
      "outputs": []
    },
    {
      "cell_type": "markdown",
      "source": [
        "\n",
        "\n",
        "### **Effect on Higher-Dimensional Arrays**\n",
        "\n",
        "- **`fliplr()`**: Reverses columns in each 2D slice of a higher-dimensional array.\n",
        "- **`flipud()`**: Reverses rows in each 2D slice of a higher-dimensional array.\n",
        "\n",
        "#### **Example with 3D Array**:"
      ],
      "metadata": {
        "id": "SXB9azrjdDdC"
      }
    },
    {
      "cell_type": "code",
      "source": [
        "arr_3d = np.array([[[1, 2], [3, 4]],\n",
        "                   [[5, 6], [7, 8]]])\n",
        "\n",
        "print(\"Original 3D array:\")\n",
        "print(arr_3d)\n",
        "\n",
        "print(\"\\nfliplr:\")\n",
        "print(np.fliplr(arr_3d))\n",
        "\n",
        "print(\"\\nflipud:\")\n",
        "print(np.flipud(arr_3d))"
      ],
      "metadata": {
        "id": "YxfGwFG2dfwV"
      },
      "execution_count": null,
      "outputs": []
    },
    {
      "cell_type": "markdown",
      "source": [
        "\n",
        "### **Conclusion**\n",
        "- **`fliplr()`** is useful when you need to reverse columns (horizontal flipping), while **`flipud()`** is used for reversing rows (vertical flipping).\n",
        "- Knowing which method to use depends on whether you want to flip the array along its horizontal or vertical axis!"
      ],
      "metadata": {
        "id": "m_djdvGbcxsP"
      }
    },
    {
      "cell_type": "markdown",
      "source": [
        "**Q9. Discuss the functionality of the array_split() method in NumPy. How does it handle uneven splits?**"
      ],
      "metadata": {
        "id": "wdAPk8jPdjzt"
      }
    },
    {
      "cell_type": "markdown",
      "source": [
        "**Ans9.**\n",
        "### **Functionality of `array_split()` in NumPy**\n",
        "\n",
        "The `array_split()` method in NumPy is used to split an array into multiple sub-arrays. It is more flexible than `split()` because it can handle **uneven splits**, distributing the remaining elements across sub-arrays.\n",
        "\n",
        "---\n",
        "\n",
        "### **Syntax**:"
      ],
      "metadata": {
        "id": "nRWhD8pffmkW"
      }
    },
    {
      "cell_type": "code",
      "source": [
        "np.array_split(array, indices_or_sections, axis=0)"
      ],
      "metadata": {
        "id": "WwBdomYigJ8k"
      },
      "execution_count": null,
      "outputs": []
    },
    {
      "cell_type": "markdown",
      "source": [
        "- **`array`**: The array to be split.\n",
        "- **`indices_or_sections`**: Specifies how many parts to split the array into.\n",
        "  - If it's an integer, it splits the array into that many parts.\n",
        "- **`axis`** (optional): The axis along which to split. Default is `0` (rows).\n",
        "\n",
        "---\n",
        "\n",
        "### **Key Features**:\n",
        "1. **Handles Uneven Splits**: If the array cannot be divided evenly, `array_split()` creates sub-arrays with different sizes.\n",
        "2. **Supports Multi-Dimensional Arrays**: Can split along different axes.\n",
        "\n",
        "---\n",
        "\n",
        "### **Examples**\n",
        "\n",
        "#### **1. Even Split**"
      ],
      "metadata": {
        "id": "7L3zejQHgONz"
      }
    },
    {
      "cell_type": "code",
      "source": [
        "import numpy as np\n",
        "\n",
        "arr = np.array([1, 2, 3, 4, 5, 6])\n",
        "split_arr = np.array_split(arr, 3)\n",
        "print(split_arr)  # Output: [array([1, 2]), array([3, 4]), array([5, 6])]\n",
        "\n",
        "\n"
      ],
      "metadata": {
        "id": "16PWuGxhgQrC"
      },
      "execution_count": null,
      "outputs": []
    },
    {
      "cell_type": "markdown",
      "source": [
        "**Explanation**: The array is evenly split into three parts, each containing two elements.\n",
        "#### **2. Uneven Split**"
      ],
      "metadata": {
        "id": "B47CZdH6gZIc"
      }
    },
    {
      "cell_type": "markdown",
      "source": [],
      "metadata": {
        "id": "WRE-2ldAgg8s"
      }
    },
    {
      "cell_type": "code",
      "source": [
        "arr = np.array([1, 2, 3, 4, 5, 6, 7])\n",
        "split_arr = np.array_split(arr, 3)\n",
        "print(split_arr)\n",
        "# Output: [array([1, 2, 3]), array([4, 5]), array([6, 7])]"
      ],
      "metadata": {
        "id": "1Uq_u50fgebk"
      },
      "execution_count": null,
      "outputs": []
    },
    {
      "cell_type": "markdown",
      "source": [
        "**Explanation**: The array has 7 elements, which can't be evenly split into 3 parts. The first sub-array gets 3 elements, while the rest get 2 elements each."
      ],
      "metadata": {
        "id": "sa46lVawggtN"
      }
    },
    {
      "cell_type": "markdown",
      "source": [
        "#### **3. Splitting a 2D Array Along Rows (Axis 0)**"
      ],
      "metadata": {
        "id": "MNcQQtPngjpl"
      }
    },
    {
      "cell_type": "code",
      "source": [
        "arr_2d = np.array([[1, 2], [3, 4], [5, 6], [7, 8]])\n",
        "split_2d = np.array_split(arr_2d, 3, axis=0)\n",
        "print(split_2d)\n",
        "# Output:\n",
        "# [array([[1, 2], [3, 4]]),\n",
        "#  array([[5, 6]]),\n",
        "#  array([[7, 8]])]"
      ],
      "metadata": {
        "id": "SMea8MkQgk7l"
      },
      "execution_count": null,
      "outputs": []
    },
    {
      "cell_type": "markdown",
      "source": [
        "#### **4. Splitting a 2D Array Along Columns (Axis 1)**"
      ],
      "metadata": {
        "id": "TQA7pWYQgmlV"
      }
    },
    {
      "cell_type": "code",
      "source": [
        "split_2d_col = np.array_split(arr_2d, 3, axis=1)\n",
        "print(split_2d_col)\n",
        "# Output:\n",
        "# [array([[1],\n",
        "#         [3],\n",
        "#         [5],\n",
        "#         [7]]),\n",
        "#  array([[2],\n",
        "#         [4],\n",
        "#         [6],\n",
        "#         [8]]),\n",
        "#  array([], shape=(4, 0), dtype=int64)]"
      ],
      "metadata": {
        "id": "r0OrBVNQgqZe"
      },
      "execution_count": null,
      "outputs": []
    },
    {
      "cell_type": "markdown",
      "source": [
        "\n",
        "**Explanation**: The array is split into 3 uneven column sub-arrays, with one empty array when the columns can't be evenly split.\n",
        "\n",
        "---\n",
        "\n",
        "### **Difference Between `split()` and `array_split()`**\n",
        "- **`split()`**: Raises an error if the array can't be split evenly.\n",
        "- **`array_split()`**: Handles uneven splits gracefully by distributing extra elements.\n",
        "\n",
        "---\n",
        "\n",
        "### **Conclusion**\n",
        "`array_split()` is a flexible and powerful method for splitting arrays, especially when dealing with uneven splits. It's particularly useful for dividing datasets into batches or chunks for machine learning, data processing, or parallel computing tasks."
      ],
      "metadata": {
        "id": "lwWjEqTEgC_C"
      }
    },
    {
      "cell_type": "markdown",
      "source": [
        "**Q10. Explain the concepts of vectorization and broadcasting in NumPy. How do they contribute to efficient array operations?**"
      ],
      "metadata": {
        "id": "MCU_FJ3qhyaf"
      }
    },
    {
      "cell_type": "markdown",
      "source": [
        "**Ans10.**\n",
        "### **Concepts of Vectorization and Broadcasting in NumPy**\n",
        "\n",
        "Both **vectorization** and **broadcasting** are powerful concepts in NumPy that enable efficient array operations. They optimize performance by avoiding explicit loops and reducing computational complexity.\n",
        "\n",
        "---\n",
        "\n",
        "### **1. Vectorization in NumPy**\n",
        "\n",
        "**Vectorization** refers to the process of converting operations that would typically require loops into **element-wise operations** that can be performed directly on NumPy arrays.\n",
        "\n",
        "- **Goal**: Instead of using a Python `for` loop to iterate over each element of an array, NumPy performs the operation on the entire array in one step, leveraging optimized low-level C implementations.\n",
        "- **Benefit**: This approach is much faster because NumPy uses compiled code that avoids Python's overhead of interpreting loops.\n",
        "\n",
        "#### **Example of Vectorized Operation:**"
      ],
      "metadata": {
        "id": "2ba2-_PPh85Q"
      }
    },
    {
      "cell_type": "code",
      "source": [
        "import numpy as np\n",
        "\n",
        "arr = np.array([1, 2, 3, 4])\n",
        "\n",
        "# Without vectorization (using loops):\n",
        "result_loop = []\n",
        "for x in arr:\n",
        "    result_loop.append(x * 2)\n",
        "\n",
        "# With vectorization:\n",
        "result_vec = arr * 2\n",
        "\n",
        "print(result_vec)  # Output: [2 4 6 8]"
      ],
      "metadata": {
        "id": "vb3S2XZIiE6Z"
      },
      "execution_count": null,
      "outputs": []
    },
    {
      "cell_type": "markdown",
      "source": [
        "**Explanation**: The vectorized operation `arr * 2` applies the multiplication to all elements of `arr` without explicit looping.\n",
        "\n",
        "---\n",
        "\n",
        "### **2. Broadcasting in NumPy**\n",
        "\n",
        "**Broadcasting** is a set of rules that allow NumPy to perform operations on arrays of different shapes in a way that they are made compatible (by \"stretching\" or \"broadcasting\" the smaller array to the size of the larger one).\n",
        "\n",
        "- **Goal**: Avoid the need for manually reshaping arrays to perform operations, reducing memory usage and code complexity.\n",
        "- **Benefit**: Broadcasting allows NumPy to perform operations on arrays with different shapes efficiently without explicitly replicating data.\n",
        "\n",
        "#### **Broadcasting Rules:**\n",
        "1. **If arrays have the same shape**, the operation is straightforward (element-wise operation).\n",
        "2. **If the arrays have different shapes**, NumPy compares their shapes starting from the trailing dimensions. If the dimensions are compatible (either the sizes are the same or one of them is 1), broadcasting can occur.\n",
        "3. **If a dimension size is 1**, it gets \"stretched\" or replicated to match the larger dimension.\n",
        "\n",
        "---\n",
        "\n",
        "### **Example of Broadcasting:**\n",
        "\n",
        "#### **1. Broadcasting with Different Shapes**"
      ],
      "metadata": {
        "id": "c5B-0G3CiKq7"
      }
    },
    {
      "cell_type": "code",
      "source": [
        "import numpy as np\n",
        "\n",
        "arr1 = np.array([1, 2, 3])\n",
        "arr2 = np.array([[10], [20], [30]])\n",
        "\n",
        "result = arr1 + arr2\n",
        "print(result)\n",
        "\n",
        "Output:\n",
        "\n",
        "[[11 12 13]\n",
        " [22 23 24]\n",
        " [33 34 35]]"
      ],
      "metadata": {
        "id": "WbAPNdneiNU6"
      },
      "execution_count": null,
      "outputs": []
    },
    {
      "cell_type": "markdown",
      "source": [
        "**Explanation**:\n",
        "- `arr1` is of shape `(3,)`, and `arr2` is of shape `(3,1)`.\n",
        "- NumPy broadcasts `arr1` across the second axis of `arr2` (turning `arr1` into a `(3,3)` array by repeating its elements), and the addition happens element-wise.\n",
        "\n",
        "#### **2. Broadcasting with Scalar**"
      ],
      "metadata": {
        "id": "kOyu7ayeipTG"
      }
    },
    {
      "cell_type": "code",
      "source": [
        "arr = np.array([1, 2, 3])\n",
        "\n",
        "# Broadcasting a scalar across the array\n",
        "result = arr + 10\n",
        "print(result)  # Output: [11 12 13]"
      ],
      "metadata": {
        "id": "1YG1XnOCisAX"
      },
      "execution_count": null,
      "outputs": []
    },
    {
      "cell_type": "markdown",
      "source": [
        "\n",
        "**Explanation**: The scalar `10` is broadcasted to each element of the array, adding 10 to each element.\n",
        "\n",
        "---\n",
        "\n",
        "### **How Vectorization and Broadcasting Contribute to Efficient Array Operations**\n",
        "\n",
        "1. **Performance Optimization**:\n",
        "   - **Vectorization** eliminates the need for explicit loops, allowing NumPy to perform operations on entire arrays in a single step, which is much faster due to the optimized C code.\n",
        "   - **Broadcasting** avoids the need to manually reshape arrays or replicate data, reducing both memory usage and the complexity of the code.\n",
        "\n",
        "2. **Memory Efficiency**:\n",
        "   - With **broadcasting**, smaller arrays don't need to be explicitly replicated across memory to match the shape of larger arrays. Instead, NumPy works with the original shapes and performs the necessary adjustments on the fly.\n",
        "   - **Vectorization** eliminates unnecessary memory usage by performing operations on the entire array in one go rather than element-by-element.\n",
        "\n",
        "3. **Cleaner Code**:\n",
        "   - **Vectorized** code is concise and easier to read, avoiding verbose looping constructs.\n",
        "   - **Broadcasting** simplifies operations between arrays of different shapes without manually reshaping arrays, making code cleaner and more intuitive.\n",
        "\n",
        "---\n",
        "\n",
        "### **Summary**\n",
        "- **Vectorization** allows operations to be applied to entire arrays without loops, boosting performance by leveraging low-level C operations.\n",
        "- **Broadcasting** enables operations on arrays of different shapes by stretching smaller arrays, saving memory and improving performance.\n",
        "\n",
        "Together, **vectorization** and **broadcasting** make NumPy a powerful tool for efficient numerical computation, enabling operations on large datasets with minimal overhead."
      ],
      "metadata": {
        "id": "eE2BLKafh-9w"
      }
    },
    {
      "cell_type": "markdown",
      "source": [
        "# **Practical Questions:**"
      ],
      "metadata": {
        "id": "PIvaoWKii4CY"
      }
    },
    {
      "cell_type": "markdown",
      "source": [
        "**Q1. Create a 3x3 NumPy array with random integers between 1 and 100. Then, interchange its rows and columns.**"
      ],
      "metadata": {
        "id": "QItnsEjGjrku"
      }
    },
    {
      "cell_type": "markdown",
      "source": [
        "**Ans1.** Here's how you can solve this step by step:\n",
        "\n",
        "1. Create a 3x3 array with random integers between 1 and 100 using `np.random.randint`.\n",
        "2. Interchange the rows and columns using the `.T` attribute, which transposes the array.\n",
        "\n",
        "Here’s the code:"
      ],
      "metadata": {
        "id": "X93OMse2kDkp"
      }
    },
    {
      "cell_type": "code",
      "source": [
        "import numpy as np\n",
        "\n",
        "# Step 1: Create a 3x3 array with random integers between 1 and 100\n",
        "array = np.random.randint(1, 101, size=(3, 3))\n",
        "print(\"Original Array:\")\n",
        "print(array)\n",
        "\n",
        "# Step 2: Interchange rows and columns (transpose)\n",
        "transposed_array = array.T\n",
        "print(\"\\nTransposed Array:\")\n",
        "print(transposed_array)"
      ],
      "metadata": {
        "id": "YsCc3Bm7kENq"
      },
      "execution_count": null,
      "outputs": []
    },
    {
      "cell_type": "markdown",
      "source": [
        "\n",
        "When you run this, you’ll see the original and transposed arrays."
      ],
      "metadata": {
        "id": "rjAeSFPXj42x"
      }
    },
    {
      "cell_type": "markdown",
      "source": [
        "**Q2. Generate a 1D NumPy array with 10 elements. Reshape it into a 2x5 array, then into a 5x2 array.**"
      ],
      "metadata": {
        "id": "7NW324T_kNNi"
      }
    },
    {
      "cell_type": "markdown",
      "source": [
        "**Ans2.** This is a fun one! Here's the step-by-step guide:\n",
        "\n",
        "1. Create a 1D NumPy array with 10 elements using `np.arange` or any method you like.\n",
        "2. Reshape it into a 2x5 array using the `.reshape()` method.\n",
        "3. Reshape the 2x5 array into a 5x2 array.\n",
        "\n",
        "Here’s the code:"
      ],
      "metadata": {
        "id": "9vauwijOkfEs"
      }
    },
    {
      "cell_type": "code",
      "source": [
        "import numpy as np\n",
        "\n",
        "# Step 1: Create a 1D array with 10 elements\n",
        "array_1d = np.arange(10)\n",
        "print(\"1D Array:\")\n",
        "print(array_1d)\n",
        "\n",
        "# Step 2: Reshape it into a 2x5 array\n",
        "array_2x5 = array_1d.reshape(2, 5)\n",
        "print(\"\\nReshaped into 2x5 Array:\")\n",
        "print(array_2x5)\n",
        "\n",
        "# Step 3: Reshape it into a 5x2 array\n",
        "array_5x2 = array_2x5.reshape(5, 2)\n",
        "print(\"\\nReshaped into 5x2 Array:\")\n",
        "print(array_5x2)"
      ],
      "metadata": {
        "id": "OlknNqr0kfht"
      },
      "execution_count": null,
      "outputs": []
    },
    {
      "cell_type": "markdown",
      "source": [
        "\n",
        "### Key Points:\n",
        "- The `reshape()` method doesn’t change the data; it just reorganizes the structure.\n",
        "- The product of dimensions (e.g., \\(2 \\times 5\\) or \\(5 \\times 2\\)) must match the total number of elements in the array.\n",
        "\n"
      ],
      "metadata": {
        "id": "AAo-O3dmkSG0"
      }
    },
    {
      "cell_type": "markdown",
      "source": [
        "**Q3. Create a 4x4 NumPy array with random float values. Add a border of zeros around it, resulting in a 6x6 array.**"
      ],
      "metadata": {
        "id": "vDlXJUCtkr7u"
      }
    },
    {
      "cell_type": "markdown",
      "source": [
        "**Ans3.** Adding a border of zeros around a NumPy array is straightforward with the `np.pad` function. Here’s how to do it step by step:\n",
        "\n",
        "1. Create a 4x4 array with random float values using `np.random.rand`.\n",
        "2. Use `np.pad` to add a border of zeros around the array.\n",
        "\n",
        "Here’s the code:"
      ],
      "metadata": {
        "id": "MScw3fSvljwN"
      }
    },
    {
      "cell_type": "code",
      "source": [
        "import numpy as np\n",
        "\n",
        "# Step 1: Create a 4x4 array with random float values\n",
        "array = np.random.rand(4, 4)\n",
        "print(\"Original 4x4 Array:\")\n",
        "print(array)\n",
        "\n",
        "# Step 2: Add a border of zeros around the array\n",
        "array_with_border = np.pad(array, pad_width=1, mode='constant', constant_values=0)\n",
        "print(\"\\nArray with Border (6x6):\")\n",
        "print(array_with_border)"
      ],
      "metadata": {
        "id": "iE6NvuLXlk-t"
      },
      "execution_count": null,
      "outputs": []
    },
    {
      "cell_type": "markdown",
      "source": [
        "\n",
        "### Key Points:\n",
        "- The `pad_width=1` adds a 1-cell-wide border.\n",
        "- `mode='constant'` ensures the added border consists of constant values.\n",
        "- `constant_values=0` specifies that the border values should be zero.\n",
        "\n"
      ],
      "metadata": {
        "id": "qOMUW7lNle2U"
      }
    },
    {
      "cell_type": "markdown",
      "source": [
        "**Q4. Using NumPy, create an array of integers from 10 to 60 with a step of 5.**"
      ],
      "metadata": {
        "id": "NHDaWBEtlrZG"
      }
    },
    {
      "cell_type": "markdown",
      "source": [
        "**Ans4.** To create an array of integers from 10 to 60 with a step of 5, you can use the `np.arange` function. Here's the code:"
      ],
      "metadata": {
        "id": "_7SghWwel6rI"
      }
    },
    {
      "cell_type": "code",
      "source": [
        "import numpy as np\n",
        "\n",
        "# Create an array from 10 to 60 with a step of 5\n",
        "array = np.arange(10, 61, 5)\n",
        "print(\"Array from 10 to 60 with step 5:\")\n",
        "print(array)"
      ],
      "metadata": {
        "id": "7zeLsWahl8qw"
      },
      "execution_count": null,
      "outputs": []
    },
    {
      "cell_type": "markdown",
      "source": [
        "### Explanation:\n",
        "- `np.arange(start, stop, step)` generates values starting from `start` up to (but not including) `stop`, with a specified `step`.\n",
        "- Here, it starts at 10, goes up to 60, and increments by 5.\n",
        "\n",
        "Output:"
      ],
      "metadata": {
        "id": "G755ElUYmFCh"
      }
    },
    {
      "cell_type": "code",
      "source": [
        "[10 15 20 25 30 35 40 45 50 55 60]"
      ],
      "metadata": {
        "id": "qZohqwVamIGJ"
      },
      "execution_count": null,
      "outputs": []
    },
    {
      "cell_type": "markdown",
      "source": [
        "**Q5. Create a NumPy array of strings ['python', 'numpy', 'pandas']. Apply different case transformations (uppercase, lowercase, title case, etc.) to each element.**"
      ],
      "metadata": {
        "id": "hucAk9XnmOtS"
      }
    },
    {
      "cell_type": "markdown",
      "source": [
        "**Ans05.** You can perform string operations on a NumPy array of strings using `np.char` functions. Here’s how you can apply different case transformations:\n",
        "\n",
        "### Code:"
      ],
      "metadata": {
        "id": "d281H8Semdnk"
      }
    },
    {
      "cell_type": "code",
      "source": [
        "import numpy as np\n",
        "\n",
        "# Step 1: Create a NumPy array of strings\n",
        "array = np.array(['python', 'numpy', 'pandas'])\n",
        "print(\"Original Array:\")\n",
        "print(array)\n",
        "\n",
        "# Step 2: Apply case transformations\n",
        "uppercase_array = np.char.upper(array)   # Convert to uppercase\n",
        "lowercase_array = np.char.lower(array)   # Convert to lowercase\n",
        "titlecase_array = np.char.title(array)   # Convert to title case (capitalize each word)\n",
        "\n",
        "# Display results\n",
        "print(\"\\nUppercase Transformation:\")\n",
        "print(uppercase_array)\n",
        "\n",
        "print(\"\\nLowercase Transformation:\")\n",
        "print(lowercase_array)\n",
        "\n",
        "print(\"\\nTitle Case Transformation:\")\n",
        "print(titlecase_array)"
      ],
      "metadata": {
        "id": "8lBjTWZUmirU"
      },
      "execution_count": null,
      "outputs": []
    },
    {
      "cell_type": "markdown",
      "source": [
        "\n",
        "### Explanation:\n",
        "- `np.char.upper(array)`: Converts all characters in the array to uppercase.\n",
        "- `np.char.lower(array)`: Converts all characters in the array to lowercase.\n",
        "- `np.char.title(array)`: Capitalizes the first character of each word.\n",
        "\n",
        "### Example Output:"
      ],
      "metadata": {
        "id": "2V-V5kZhmlWd"
      }
    },
    {
      "cell_type": "code",
      "source": [
        "Original Array:\n",
        "['python' 'numpy' 'pandas']\n",
        "\n",
        "Uppercase Transformation:\n",
        "['PYTHON' 'NUMPY' 'PANDAS']\n",
        "\n",
        "Lowercase Transformation:\n",
        "['python' 'numpy' 'pandas']\n",
        "\n",
        "Title Case Transformation:\n",
        "['Python' 'Numpy' 'Pandas']"
      ],
      "metadata": {
        "id": "v2V2cffRmqPP"
      },
      "execution_count": null,
      "outputs": []
    },
    {
      "cell_type": "markdown",
      "source": [
        "**Q6. Generate a NumPy array of words. Insert a space between each character of every word in the array.**"
      ],
      "metadata": {
        "id": "WPrlUq32m0Oe"
      }
    },
    {
      "cell_type": "markdown",
      "source": [
        "**Ans6.** You can insert a space between each character of every word in a NumPy array of strings using `np.char.join`. Here's how you can do it:\n",
        "\n",
        "### Code:"
      ],
      "metadata": {
        "id": "dLHS7-htnNNi"
      }
    },
    {
      "cell_type": "code",
      "source": [
        "import numpy as np\n",
        "\n",
        "# Step 1: Create a NumPy array of words\n",
        "words = np.array(['python', 'numpy', 'array'])\n",
        "print(\"Original Array:\")\n",
        "print(words)\n",
        "\n",
        "# Step 2: Insert a space between each character\n",
        "spaced_words = np.char.join(' ', words)\n",
        "print(\"\\nWords with Spaces Between Characters:\")\n",
        "print(spaced_words)"
      ],
      "metadata": {
        "id": "h9HX4t-wnRaZ"
      },
      "execution_count": null,
      "outputs": []
    },
    {
      "cell_type": "markdown",
      "source": [
        "### Explanation:\n",
        "- `np.char.join(' ', array)` joins the characters of each word in the array with a specified separator (`' '` in this case).\n",
        "- This effectively inserts a space between every character of each word.\n",
        "\n",
        "### Example Output:"
      ],
      "metadata": {
        "id": "VpdXfi8wnXgo"
      }
    },
    {
      "cell_type": "code",
      "source": [
        "Original Array:\n",
        "['python' 'numpy' 'array']\n",
        "\n",
        "Words with Spaces Between Characters:\n",
        "['p y t h o n' 'n u m p y' 'a r r a y']"
      ],
      "metadata": {
        "id": "LviAkK23ngok"
      },
      "execution_count": null,
      "outputs": []
    },
    {
      "cell_type": "markdown",
      "source": [
        "**Q7. Create two 2D NumPy arrays and perform element-wise addition, subtraction, multiplication, and division.**"
      ],
      "metadata": {
        "id": "Ids2SZz-m1qH"
      }
    },
    {
      "cell_type": "markdown",
      "source": [
        "**Ans7.** Here's how you can create two 2D NumPy arrays and perform element-wise operations like addition, subtraction, multiplication, and division:\n",
        "\n",
        "### Code:"
      ],
      "metadata": {
        "id": "wsc5N3Cwn3V4"
      }
    },
    {
      "cell_type": "code",
      "source": [
        "import numpy as np\n",
        "\n",
        "# Step 1: Create two 2D arrays\n",
        "array1 = np.array([[1, 2], [3, 4]])\n",
        "array2 = np.array([[5, 6], [7, 8]])\n",
        "\n",
        "print(\"Array 1:\")\n",
        "print(array1)\n",
        "\n",
        "print(\"\\nArray 2:\")\n",
        "print(array2)\n",
        "\n",
        "# Step 2: Perform element-wise operations\n",
        "addition = array1 + array2  # or np.add(array1, array2)\n",
        "subtraction = array1 - array2  # or np.subtract(array1, array2)\n",
        "multiplication = array1 * array2  # or np.multiply(array1, array2)\n",
        "division = array1 / array2  # or np.divide(array1, array2)\n",
        "\n",
        "# Step 3: Display results\n",
        "print(\"\\nElement-wise Addition:\")\n",
        "print(addition)\n",
        "\n",
        "print(\"\\nElement-wise Subtraction:\")\n",
        "print(subtraction)\n",
        "\n",
        "print(\"\\nElement-wise Multiplication:\")\n",
        "print(multiplication)\n",
        "\n",
        "print(\"\\nElement-wise Division:\")\n",
        "print(division)"
      ],
      "metadata": {
        "id": "wIlCeLYHn_yA"
      },
      "execution_count": null,
      "outputs": []
    },
    {
      "cell_type": "markdown",
      "source": [
        "### Explanation:\n",
        "1. **Addition** (`+` or `np.add`): Adds corresponding elements from `array1` and `array2`.\n",
        "2. **Subtraction** (`-` or `np.subtract`): Subtracts corresponding elements of `array2` from `array1`.\n",
        "3. **Multiplication** (`*` or `np.multiply`): Multiplies corresponding elements of the arrays.\n",
        "4. **Division** (`/` or `np.divide`): Divides corresponding elements of `array1` by `array2`."
      ],
      "metadata": {
        "id": "K7T4tZysoFRJ"
      }
    },
    {
      "cell_type": "markdown",
      "source": [
        "### Example Output:"
      ],
      "metadata": {
        "id": "R70mPHMboHox"
      }
    },
    {
      "cell_type": "code",
      "source": [
        "Array 1:\n",
        "[[1 2]\n",
        " [3 4]]\n",
        "\n",
        "Array 2:\n",
        "[[5 6]\n",
        " [7 8]]\n",
        "\n",
        "Element-wise Addition:\n",
        "[[ 6  8]\n",
        " [10 12]]\n",
        "\n",
        "Element-wise Subtraction:\n",
        "[[-4 -4]\n",
        " [-4 -4]]\n",
        "\n",
        "Element-wise Multiplication:\n",
        "[[ 5 12]\n",
        " [21 32]]\n",
        "\n",
        "Element-wise Division:\n",
        "[[0.2        0.33333333]\n",
        " [0.42857143 0.5       ]]"
      ],
      "metadata": {
        "id": "3zi4N7GCoKih"
      },
      "execution_count": null,
      "outputs": []
    },
    {
      "cell_type": "markdown",
      "source": [
        "**Q8. Use NumPy to create a 5x5 identity matrix, then extract its diagonal elements.**"
      ],
      "metadata": {
        "id": "ZG52BCnmnns9"
      }
    },
    {
      "cell_type": "markdown",
      "source": [
        "**Ans8.** Here's how you can create a 5x5 identity matrix and extract its diagonal elements using NumPy:\n",
        "\n",
        "### Code:"
      ],
      "metadata": {
        "id": "XH9O2A-bogPc"
      }
    },
    {
      "cell_type": "code",
      "source": [
        "import numpy as np\n",
        "\n",
        "# Step 1: Create a 5x5 identity matrix\n",
        "identity_matrix = np.eye(5)\n",
        "print(\"5x5 Identity Matrix:\")\n",
        "print(identity_matrix)\n",
        "\n",
        "# Step 2: Extract the diagonal elements\n",
        "diagonal_elements = np.diag(identity_matrix)\n",
        "print(\"\\nDiagonal Elements:\")\n",
        "print(diagonal_elements)"
      ],
      "metadata": {
        "id": "ZN1ZWF1_oj-2"
      },
      "execution_count": null,
      "outputs": []
    },
    {
      "cell_type": "markdown",
      "source": [
        "### Explanation:\n",
        "1. **`np.eye(5)`**:\n",
        "   - Creates a 5x5 identity matrix (a square matrix with ones on the diagonal and zeros elsewhere).\n",
        "2. **`np.diag(matrix)`**:\n",
        "   - Extracts the diagonal elements of the matrix as a 1D array.\n",
        "\n",
        "### Example Output:"
      ],
      "metadata": {
        "id": "TFZmcyGGonH3"
      }
    },
    {
      "cell_type": "code",
      "source": [
        "5x5 Identity Matrix:\n",
        "[[1. 0. 0. 0. 0.]\n",
        " [0. 1. 0. 0. 0.]\n",
        " [0. 0. 1. 0. 0.]\n",
        " [0. 0. 0. 1. 0.]\n",
        " [0. 0. 0. 0. 1.]]\n",
        "\n",
        "Diagonal Elements:\n",
        "[1. 1. 1. 1. 1.]"
      ],
      "metadata": {
        "id": "KtM9LYePopZ-"
      },
      "execution_count": null,
      "outputs": []
    },
    {
      "cell_type": "markdown",
      "source": [
        "**Q9. Generate a NumPy array of 100 random integers between 0 and 1000. Find and display all prime numbers in this array.**"
      ],
      "metadata": {
        "id": "3xCZUto_oUrm"
      }
    },
    {
      "cell_type": "markdown",
      "source": [
        "**Ans9.** To identify prime numbers in a NumPy array of random integers, we need a helper function to check for primality. Here's how you can implement it step by step:\n",
        "\n",
        "### Code:"
      ],
      "metadata": {
        "id": "6aUwIpGVpC3J"
      }
    },
    {
      "cell_type": "code",
      "source": [
        "import numpy as np\n",
        "\n",
        "# Step 1: Generate a NumPy array of 100 random integers between 0 and 1000\n",
        "random_array = np.random.randint(0, 1001, size=100)\n",
        "print(\"Random Array:\")\n",
        "print(random_array)\n",
        "\n",
        "# Step 2: Define a helper function to check for primality\n",
        "def is_prime(num):\n",
        "    if num < 2:\n",
        "        return False\n",
        "    for i in range(2, int(np.sqrt(num)) + 1):\n",
        "        if num % i == 0:\n",
        "            return False\n",
        "    return True\n",
        "\n",
        "# Step 3: Use a vectorized approach to find all prime numbers in the array\n",
        "prime_numbers = np.array([num for num in random_array if is_prime(num)])\n",
        "print(\"\\nPrime Numbers in the Array:\")\n",
        "print(prime_numbers)"
      ],
      "metadata": {
        "id": "kS9Q6WZBpGO5"
      },
      "execution_count": null,
      "outputs": []
    },
    {
      "cell_type": "markdown",
      "source": [
        "### Explanation:\n",
        "1. **`np.random.randint(0, 1001, size=100)`**:\n",
        "   - Generates 100 random integers between 0 and 1000.\n",
        "2. **Helper Function `is_prime(num)`**:\n",
        "   - Checks if a number is prime by iterating from 2 to \\(\\sqrt{\\text{num}}\\) and checking divisibility.\n",
        "3. **List Comprehension**:\n",
        "   - Filters the array to include only the numbers for which `is_prime` returns `True`.\n",
        "\n",
        "### Example Output:"
      ],
      "metadata": {
        "id": "4QvxvDSdpIua"
      }
    },
    {
      "cell_type": "code",
      "source": [
        "Random Array:\n",
        "[145 381 203 ... 602 791 199]\n",
        "\n",
        "Prime Numbers in the Array:\n",
        "[199 281 599 613 661 ...]"
      ],
      "metadata": {
        "id": "I25wa4OZpJ3J"
      },
      "execution_count": null,
      "outputs": []
    },
    {
      "cell_type": "markdown",
      "source": [
        "**Q10. Create a NumPy array representing daily temperatures for a month. Calculate and display the weekly averages.**"
      ],
      "metadata": {
        "id": "raewvnQLov8G"
      }
    },
    {
      "cell_type": "markdown",
      "source": [
        "**Ans10.** To calculate the weekly averages of daily temperatures for a month, we can:\n",
        "\n",
        "1. Generate a NumPy array with daily temperatures for a month (assuming 30 days).\n",
        "2. Reshape the array into a 4x7 matrix (representing 4 weeks and 7 days).\n",
        "3. Calculate the weekly averages using `np.mean`.\n",
        "\n",
        "Here’s how you can do it:\n",
        "\n",
        "### Code:"
      ],
      "metadata": {
        "id": "eKfwR9Ibpgvk"
      }
    },
    {
      "cell_type": "code",
      "source": [
        "import numpy as np\n",
        "\n",
        "# Step 1: Generate a NumPy array representing daily temperatures for a month (30 days)\n",
        "daily_temperatures = np.random.uniform(low=15, high=35, size=30)  # Random temperatures between 15 and 35\n",
        "print(\"Daily Temperatures for the Month:\")\n",
        "print(daily_temperatures)\n",
        "\n",
        "# Step 2: Reshape the array into a 4x7 matrix (4 weeks, 7 days each)\n",
        "weekly_temperatures = daily_temperatures.reshape(4, 7)\n",
        "print(\"\\nWeekly Temperatures (4x7 matrix):\")\n",
        "print(weekly_temperatures)\n",
        "\n",
        "# Step 3: Calculate the weekly averages\n",
        "weekly_averages = np.mean(weekly_temperatures, axis=1)\n",
        "print(\"\\nWeekly Average Temperatures:\")\n",
        "print(weekly_averages)"
      ],
      "metadata": {
        "id": "XDmagjanpjQc"
      },
      "execution_count": null,
      "outputs": []
    },
    {
      "cell_type": "markdown",
      "source": [
        "### Explanation:\n",
        "1. **`np.random.uniform(low=15, high=35, size=30)`**:\n",
        "   - Generates 30 random temperatures between 15°C and 35°C.\n",
        "2. **`reshape(4, 7)`**:\n",
        "   - Reshapes the 30 temperatures into a 4x7 matrix where each row represents a week.\n",
        "3. **`np.mean(weekly_temperatures, axis=1)`**:\n",
        "   - Calculates the mean for each week (along the rows of the matrix).\n",
        "\n",
        "### Example Output:"
      ],
      "metadata": {
        "id": "1k1qnzDhpmnc"
      }
    },
    {
      "cell_type": "code",
      "source": [
        "Daily Temperatures for the Month:\n",
        "[20.34 22.14 18.56  ... 28.32 21.49 23.17]\n",
        "\n",
        "Weekly Temperatures (4x7 matrix):\n",
        "[[20.34 22.14 18.56  ...]\n",
        " [25.74 28.32 26.04 ...]\n",
        " [19.94 24.74 27.98 ...]\n",
        " [22.51 21.79 23.97 ...]]\n",
        "\n",
        "Weekly Average Temperatures:\n",
        "[22.56 25.39 24.16 23.49]"
      ],
      "metadata": {
        "id": "fjUFIbJGppE1"
      },
      "execution_count": null,
      "outputs": []
    },
    {
      "cell_type": "markdown",
      "source": [
        "\n",
        "\n",
        "The weekly averages are calculated by averaging the values in each row of the reshaped matrix.\n",
        "\n"
      ],
      "metadata": {
        "id": "tWmGG65cpcTB"
      }
    }
  ]
}